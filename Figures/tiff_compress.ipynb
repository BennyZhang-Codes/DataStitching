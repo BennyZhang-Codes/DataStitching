{
 "cells": [
  {
   "cell_type": "code",
   "execution_count": null,
   "metadata": {},
   "outputs": [],
   "source": [
    "import os\n",
    "from glob import glob\n",
    "from PIL import Image\n",
    "\n",
    "\n",
    "root = os.getcwd()\n",
    "root = 'e:/skope/HighOrderMRIFigures/tiff'\n",
    "outpath = 'e:/skope/HighOrderMRIFigures/tiff_compressed'\n",
    "# os.makedirs(outpath)"
   ]
  },
  {
   "cell_type": "code",
   "execution_count": 9,
   "metadata": {},
   "outputs": [],
   "source": [
    "tiffs = glob('*.tiff', root_dir=root)\n",
    "for tiff in tiffs:\n",
    "    img = Image.open(f'{root}/{tiff}')\n",
    "    img.save(f'{outpath}/{tiff}', compression=\"tiff_lzw\")"
   ]
  }
 ],
 "metadata": {
  "kernelspec": {
   "display_name": "benny",
   "language": "python",
   "name": "python3"
  },
  "language_info": {
   "codemirror_mode": {
    "name": "ipython",
    "version": 3
   },
   "file_extension": ".py",
   "mimetype": "text/x-python",
   "name": "python",
   "nbconvert_exporter": "python",
   "pygments_lexer": "ipython3",
   "version": "3.11.0"
  }
 },
 "nbformat": 4,
 "nbformat_minor": 2
}
