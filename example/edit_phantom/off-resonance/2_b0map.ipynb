{
 "cells": [
  {
   "cell_type": "code",
   "execution_count": null,
   "metadata": {},
   "outputs": [],
   "source": [
    "# sat_ppm=-3.45\n",
    "# sat_freq=sat_ppm*1e-6*B0*sys.gamma"
   ]
  },
  {
   "cell_type": "code",
   "execution_count": 1,
   "metadata": {},
   "outputs": [],
   "source": [
    "import os\n",
    "cwd = os.getcwd()\n",
    "import shutil\n",
    "from glob import glob\n",
    "import SimpleITK as sitk\n",
    "from pydicom import dcmread\n",
    "from tqdm import trange\n",
    "import matplotlib.pyplot as plt\n",
    "import numpy as np\n",
    "\n",
    "def read_dicom_folder(phi_path):\n",
    "    delta_phi_dcms = glob(\"*.IMA\", root_dir=phi_path)\n",
    "    delta_phi_dcms.sort()\n",
    "    imgs = []\n",
    "    for dcm in delta_phi_dcms:\n",
    "        imgs.append(dcmread('{}/{}'.format(phi_path, dcm)).pixel_array)\n",
    "    return np.array(imgs)\n",
    "\n",
    "def check_path(p: str) -> str:\n",
    "    if  not os.path.exists(p):\n",
    "        os.makedirs(p)\n",
    "    return p\n",
    "\n",
    "dcm2niix_path   = 'D:/TOOLS/dcm2niix/dcm2niix.exe'\n",
    "dicom_path    = '20230921_S17_CSTOF'"
   ]
  },
  {
   "cell_type": "code",
   "execution_count": 4,
   "metadata": {},
   "outputs": [],
   "source": [
    "f = 297.193848 # MHz\n",
    "te1 = 0.00306\n",
    "te2 = 0.00408\n",
    "delta_t = te2 - te1\n",
    "e1 = sitk.ReadImage('20230921_S17_CSTOF_rearrange/6_gre_field_mapping_tra_brain_e1.nii.gz')\n",
    "e2 = sitk.ReadImage('20230921_S17_CSTOF_rearrange/6_gre_field_mapping_tra_brain_e2.nii.gz')\n",
    "\n",
    "e1_array = sitk.GetArrayFromImage(e1)\n",
    "e2_array = sitk.GetArrayFromImage(e2)\n",
    "phi_array = read_dicom_folder(phi_path='20230921_S17_CSTOF_rearrange/7_gre_field_mapping_tra_brain')\n",
    "phi_array = phi_array /4095*2*np.pi-np.pi # [-pi, pi]"
   ]
  },
  {
   "cell_type": "code",
   "execution_count": 5,
   "metadata": {},
   "outputs": [
    {
     "name": "stdout",
     "output_type": "stream",
     "text": [
      "-3.141592653589793 3.141592653589793\n"
     ]
    }
   ],
   "source": [
    "print(phi_array.min(), phi_array.max())"
   ]
  },
  {
   "cell_type": "code",
   "execution_count": 11,
   "metadata": {},
   "outputs": [
    {
     "data": {
      "text/plain": [
       "<SimpleITK.SimpleITK.Image; proxy of <Swig Object of type 'std::vector< itk::simple::Image >::value_type *' at 0x0000023B8D24BDE0> >"
      ]
     },
     "execution_count": 11,
     "metadata": {},
     "output_type": "execute_result"
    }
   ],
   "source": [
    "B0_array = phi_array / (delta_t * 2 * np.pi)\n",
    "B0_image = sitk.GetImageFromArray(np.flip(B0_array, axis=1))\n",
    "B0_image.CopyInformation(e1)\n",
    "sitk.WriteImage(sitk.Cast(B0_image, sitk.sitkInt16),\"B0map_hertz.nii.gz\",useCompression=True)\n",
    "sitk.Cast(B0_image, sitk.sitkFloat32)"
   ]
  },
  {
   "cell_type": "code",
   "execution_count": 39,
   "metadata": {},
   "outputs": [],
   "source": [
    "# e1_phi_array = read_phase_dicom_folder(phi_path='20230921_S17_CSTOF_rearrange/13_t2_star_tra_p3_dTE1.05')\n",
    "phi_path='20230921_S17_CSTOF_rearrange/13_t2_star_tra_p3_dTE1.05'\n",
    "dcms = glob(\"*IMA\", root_dir=phi_path)\n",
    "dcms.sort()\n",
    "phi_dcms_dict = {}\n",
    "for dcm in dcms:\n",
    "    ds = dcmread('{}/{}'.format(phi_path, dcm))\n",
    "    if ds.EchoNumbers not in phi_dcms_dict.keys():\n",
    "        phi_dcms_dict[ds.EchoNumbers] = []\n",
    "    phi_dcms_dict[ds.EchoNumbers].append(dcm)\n",
    "\n",
    "e1_phi_array = []\n",
    "for dcm in phi_dcms_dict[1]:\n",
    "    e1_phi_array.append(dcmread('{}/{}'.format(phi_path, dcm)).pixel_array)\n",
    "e1_phi_array = np.array(e1_phi_array)/4095*2*np.pi-np.pi # [-pi, pi]\n",
    "\n",
    "e2_phi_array = []\n",
    "for dcm in phi_dcms_dict[2]:\n",
    "    e2_phi_array.append(dcmread('{}/{}'.format(phi_path, dcm)).pixel_array)\n",
    "e2_phi_array = np.array(e2_phi_array)/4095*2*np.pi-np.pi"
   ]
  },
  {
   "cell_type": "code",
   "execution_count": 58,
   "metadata": {},
   "outputs": [],
   "source": [
    "delta_phi_array = e2_phi_array - e1_phi_array\n",
    "\n",
    "delta_phi_array = np.where(delta_phi_array<-np.pi, delta_phi_array+2*np.pi, delta_phi_array)\n",
    "delta_phi_array = np.where(delta_phi_array>np.pi, delta_phi_array-2*np.pi, delta_phi_array)\n",
    "sitk.WriteImage(sitk.GetImageFromArray(delta_phi_array / (0.00105 * 2 * np.pi)),\"B0map_t2_star_tra_p3_dTE1.05.nii.gz\")"
   ]
  }
 ],
 "metadata": {
  "kernelspec": {
   "display_name": "benny",
   "language": "python",
   "name": "python3"
  },
  "language_info": {
   "codemirror_mode": {
    "name": "ipython",
    "version": 3
   },
   "file_extension": ".py",
   "mimetype": "text/x-python",
   "name": "python",
   "nbconvert_exporter": "python",
   "pygments_lexer": "ipython3",
   "version": "3.11.0"
  }
 },
 "nbformat": 4,
 "nbformat_minor": 2
}
