{
 "cells": [
  {
   "cell_type": "code",
   "execution_count": 2,
   "metadata": {},
   "outputs": [],
   "source": [
    "import os\n",
    "cwd = os.getcwd()\n",
    "from glob import glob\n",
    "import pydicom as pd\n"
   ]
  },
  {
   "cell_type": "code",
   "execution_count": 4,
   "metadata": {},
   "outputs": [
    {
     "name": "stdout",
     "output_type": "stream",
     "text": [
      "\n",
      "//192.168.4.49/mridata/MOSTA\\20230904_S0_MOSTA\n",
      "0007 localizer\n",
      "0008 fl_tof_tra_p3\n",
      "0009 fl_tof_tra_p3\n",
      "0010 fl_tof_tra_p3\n",
      "0011 fl_tof_tra_p3\n",
      "0012 CS_TOF\n",
      "0013 CS_TOF\n",
      "0014 CS_TOF\n",
      "0015 CS_TOF\n",
      "0016 t2_spcR_sag_p6_0.25\n",
      "0017 localizer\n",
      "0018 fl_tof_tra_p3\n",
      "0019 fl_tof_tra_p3\n",
      "0020 fl_tof_tra_p3\n",
      "0021 fl_tof_tra_p3\n",
      "0022 CS_TOF\n",
      "\n",
      "//192.168.4.49/mridata/MOSTA\\20230921_S17_CSTOF\n",
      "0017 CS_TOF_0.2x0.2x0.4_seg10_acc9_bw121\n",
      "0005 MP2RAGE UP\n",
      "0018 CS_TOF_0.2x0.2x0.4_seg7_acc10_bw106\n",
      "0009 mbep2d_task_1.5iso_1s_pa\n",
      "0007 mbep2d_rest_1.5iso_1s_pa\n",
      "0002 MP2RAGE UP\n",
      "0016 CS_TOF_0.2x0.2x0.4_seg10_acc10_bw98\n",
      "0004 MP2RAGE UP\n",
      "0013 t2_star_tra_p3_dTE1.05\n",
      "0012 t2_star_tra_p3_dTE1.05\n",
      "0003 MP2RAGE UP\n",
      "0008 gre_field_mapping_tra_tuneup\n",
      "0006 gre_field_mapping_tra_brain\n",
      "0015 cmrr_mbep2d_1.6iso_tr1_pa_tuneup\n",
      "0014 cmrr_mbep2d_1.6iso_tr1_pa_tuneup\n",
      "0001 localizer\n",
      "0011 mbep2d_ref_1.5iso_1s_ap\n",
      "0010 mbep2d_ref_1.5iso_1s_ap\n",
      "\n",
      "//192.168.4.49/mridata/MOSTA\\20230928_S27_TEST_ZZY\n",
      "0007 MP2RAGE UP\n",
      "0010 ep3d_1043a_ef7_te17_bw638_pf7\n",
      "0011 ep3d_1043a_ef7_te25_bw638_pf7\n",
      "0012 ep3d_1043a_ef7_te25_bw638_pf7\n",
      "0006 MP2RAGE UP\n",
      "0005 MP2RAGE UP\n",
      "0008 MP2RAGE UP\n",
      "0009 ep3d_1043a_ef7_te17_bw638_pf7\n",
      "0001 AAHead_Scout_32ch-head-coil\n",
      "0002 AAHead_Scout_32ch-head-coil\n",
      "0003 AAHead_Scout_32ch-head-coil\n",
      "0004 AAHead_Scout_32ch-head-coil\n"
     ]
    }
   ],
   "source": [
    "subjects = glob(\"//192.168.4.49/mridata/MOSTA/*2023*\")\n",
    "protocol_names = []\n",
    "for sub in subjects[:]:\n",
    "    print('\\n{}'.format(sub))\n",
    "    os.chdir(sub)\n",
    "    \n",
    "    dcms = glob(\"*IMA*\")\n",
    "    # dcms.sort()\n",
    "    serise = set()\n",
    "\n",
    "    for dcm in dcms:\n",
    "        if dcm.split('.')[3] not in serise:\n",
    "            # print(dcm)\n",
    "            print(dcm.split('.')[3], pd.dcmread(dcm).ProtocolName)\n",
    "            serise.add(dcm.split('.')[3])\n",
    "\n",
    "    # [protocol_names.add(pd.dcmread(dcm).ProtocolName) for dcm in check_list]\n",
    "    # print('{}'.format(sub))\n",
    "    # [print(pro) for pro in protocol_names]\n",
    "    # print()\n",
    "    "
   ]
  }
 ],
 "metadata": {
  "kernelspec": {
   "display_name": "benny",
   "language": "python",
   "name": "python3"
  },
  "language_info": {
   "codemirror_mode": {
    "name": "ipython",
    "version": 3
   },
   "file_extension": ".py",
   "mimetype": "text/x-python",
   "name": "python",
   "nbconvert_exporter": "python",
   "pygments_lexer": "ipython3",
   "version": "3.11.0"
  }
 },
 "nbformat": 4,
 "nbformat_minor": 2
}
