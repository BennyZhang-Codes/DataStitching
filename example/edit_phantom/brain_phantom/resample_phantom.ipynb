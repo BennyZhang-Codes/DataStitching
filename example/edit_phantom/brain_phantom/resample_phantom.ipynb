{
 "cells": [
  {
   "cell_type": "code",
   "execution_count": 1,
   "metadata": {},
   "outputs": [],
   "source": [
    "import SimpleITK as sitk\n",
    "from scipy.io import loadmat, savemat\n",
    "\n",
    "def resample(ori_img:sitk.Image, scale) -> sitk.Image:\n",
    "    \n",
    "    resamplemethod=sitk.sitkNearestNeighbor\n",
    "    ori_Size = ori_img.GetSize()\n",
    "    ori_Spacing = ori_img.GetSpacing()   \n",
    "\n",
    "\n",
    "    if isinstance(scale, list) and len(scale) == 3:\n",
    "        target_Size = tuple([int(ori_Size[idx]*scale[idx]) for idx in range(3)])\n",
    "        target_Spacing = tuple([ori_Spacing[idx]/(target_Size[idx]/ori_Size[idx]) for idx in range(3)])\n",
    "    else:\n",
    "        target_Size = tuple([int(size*scale) for size in ori_Size])\n",
    "        target_Spacing = tuple([ori_Spacing[idx]/(target_Size[idx]/ori_Size[idx]) for idx in range(3)])\n",
    "    resampler = sitk.ResampleImageFilter()\n",
    "    resampler.SetReferenceImage(ori_img)  \n",
    "\n",
    "    resampler.SetSize(target_Size)\t\t\n",
    "    resampler.SetOutputSpacing(target_Spacing)\n",
    "    if resamplemethod == sitk.sitkNearestNeighbor:\n",
    "        resampler.SetOutputPixelType(sitk.sitkUInt8)   # 近邻插值用于mask的，保存uint8\n",
    "    else:\n",
    "        resampler.SetOutputPixelType(sitk.sitkFloat32)  # 线性插值用于PET/CT/MRI之类的，保存float32\n",
    "    resampler.SetTransform(sitk.Transform(3, sitk.sitkIdentity))    \n",
    "    resampler.SetInterpolator(resamplemethod)\n",
    "    return resampler.Execute(ori_img) "
   ]
  },
  {
   "cell_type": "code",
   "execution_count": 2,
   "metadata": {},
   "outputs": [],
   "source": [
    "brain3d_mat = loadmat(\"brain3D.mat\")\n",
    "brain3d = brain3d_mat['data']\n",
    "ori_img = sitk.GetImageFromArray(brain3d)\n",
    "ori_img.SetSpacing((0.5, 0.5, 0.5))"
   ]
  },
  {
   "cell_type": "code",
   "execution_count": 3,
   "metadata": {},
   "outputs": [
    {
     "name": "stdout",
     "output_type": "stream",
     "text": [
      "(362, 362, 434)\n",
      "(0.5, 0.5, 0.5)\n",
      "(362, 362, 434)\n",
      "(0.5, 0.5, 0.5)\n"
     ]
    }
   ],
   "source": [
    "print(ori_img.GetSize())\n",
    "print(ori_img.GetSpacing())\n",
    "out_img = resample(ori_img=ori_img, scale=1)\n",
    "print(out_img.GetSize())\n",
    "print(out_img.GetSpacing())  \n",
    "\n",
    "sitk.WriteImage(out_img, 'brain3D_{}.nii.gz'.format(out_img.GetSpacing()[0]))\n",
    "savemat('brain3D_{}.mat'.format(out_img.GetSpacing()[0]), {'data': sitk.GetArrayFromImage(out_img)}, do_compression=True)"
   ]
  },
  {
   "cell_type": "markdown",
   "metadata": {},
   "source": [
    "#### in-plane super resolution "
   ]
  },
  {
   "cell_type": "code",
   "execution_count": 2,
   "metadata": {},
   "outputs": [],
   "source": [
    "brain3d_mat = loadmat(\"brain3D.mat\")\n",
    "brain3d = brain3d_mat['data']\n",
    "ori_img = sitk.GetImageFromArray(brain3d)\n",
    "ori_img.SetSpacing((0.5, 0.5, 0.5))"
   ]
  },
  {
   "cell_type": "code",
   "execution_count": 12,
   "metadata": {},
   "outputs": [
    {
     "name": "stdout",
     "output_type": "stream",
     "text": [
      "(362, 362, 434)\n",
      "(0.5, 0.5, 0.5)\n",
      "(905, 362, 434)\n",
      "(0.2, 0.5, 0.5)\n"
     ]
    }
   ],
   "source": [
    "print(ori_img.GetSize())\n",
    "print(ori_img.GetSpacing())\n",
    "out_img = resample(ori_img=ori_img, scale=[2.5, 1, 1])\n",
    "print(out_img.GetSize())\n",
    "print(out_img.GetSpacing())  \n",
    "\n",
    "# Spacing = out_img.GetSpacing()\n",
    "# sitk.WriteImage(out_img, 'brain3D_{:.0f}_{}_{}.nii.gz'.format(Spacing[0], Spacing[1], Spacing[2]))\n",
    "# savemat('brain3D_{:.0f}_{}_{}.mat'.format(Spacing[0], Spacing[1], Spacing[2]), {'data': sitk.GetArrayFromImage(out_img)}, do_compression=True)"
   ]
  },
  {
   "cell_type": "code",
   "execution_count": 28,
   "metadata": {},
   "outputs": [
    {
     "name": "stdout",
     "output_type": "stream",
     "text": [
      "(1, 362, 434)\n",
      "(0.2, 0.5, 0.5)\n",
      "(1, 905, 1085)\n",
      "(0.2, 0.2, 0.2)\n",
      "(1, 1810, 2170)\n",
      "(0.2, 0.1, 0.1)\n",
      "(1, 3620, 4340)\n",
      "(0.2, 0.05, 0.05)\n",
      "(1, 7240, 8680)\n",
      "(0.2, 0.025, 0.025)\n",
      "(1, 18100, 21700)\n",
      "(0.2, 0.01, 0.01)\n"
     ]
    }
   ],
   "source": [
    "# 0.2 iso [724,:,:]  to in-plane High-Resolution\n",
    "a = out_img[723:724,:,:]\n",
    "for s in [1, 2.5, 5, 10, 20, 50]:\n",
    "    img = resample(ori_img=a, scale=[1, s, s])\n",
    "    print(img.GetSize())\n",
    "    print(img.GetSpacing())  \n",
    "\n",
    "    Spacing = img.GetSpacing()\n",
    "    sitk.WriteImage(img, 'InPlaneHighRes/brain3D724_{}_{}_{}.nii.gz'.format(Spacing[0], Spacing[1], Spacing[2]))\n",
    "    savemat('InPlaneHighRes/brain3D724_{}_{}_{}.mat'.format(Spacing[0], Spacing[1], Spacing[2]), {'data': sitk.GetArrayFromImage(img)}, do_compression=True)"
   ]
  },
  {
   "cell_type": "markdown",
   "metadata": {},
   "source": [
    "#### super resolution in Z-direction"
   ]
  },
  {
   "cell_type": "code",
   "execution_count": 14,
   "metadata": {},
   "outputs": [],
   "source": [
    "brain3d_mat = loadmat(\"brain3D.mat\")\n",
    "brain3d = brain3d_mat['data']\n",
    "# ori_img = sitk.GetImageFromArray(brain3d[:, :, 171:191]) # 20240325_Z\n",
    "start = 280\n",
    "end = 300\n",
    "# start = 171\n",
    "# end = 191\n",
    "# ori_img = sitk.GetImageFromArray(brain3d[:, :, start:end])\n",
    "ori_img = sitk.GetImageFromArray(brain3d)\n",
    "ori_img.SetSpacing((0.5, 0.5, 0.5))"
   ]
  },
  {
   "cell_type": "code",
   "execution_count": 15,
   "metadata": {},
   "outputs": [
    {
     "name": "stdout",
     "output_type": "stream",
     "text": [
      "(362, 362, 434)\n",
      "(0.5, 0.5, 0.5)\n",
      "(7240, 362, 434)\n",
      "(0.025, 0.5, 0.5)\n"
     ]
    }
   ],
   "source": [
    "print(ori_img.GetSize())\n",
    "print(ori_img.GetSpacing())\n",
    "out_img = resample(ori_img=ori_img, scale=[20,1,1])\n",
    "print(out_img.GetSize())\n",
    "print(out_img.GetSpacing())  \n",
    "\n",
    "sitk.WriteImage(ori_img, '20240410_Z/({}, {})_ori_brain3D_{}_{}.nii.gz'.format(start, end,ori_img.GetSize(), ori_img.GetSpacing()))\n",
    "sitk.WriteImage(out_img, '20240410_Z/({}, {})_brain3D_{}_{}.nii.gz'.format(start, end, out_img.GetSize(), out_img.GetSpacing()))\n",
    "savemat('20240410_Z/({}, {})_brain3D_{}_{}.mat'.format(start, end, out_img.GetSize(), out_img.GetSpacing()), {'data': sitk.GetArrayFromImage(out_img)}, do_compression=True)"
   ]
  }
 ],
 "metadata": {
  "kernelspec": {
   "display_name": "benny",
   "language": "python",
   "name": "python3"
  },
  "language_info": {
   "codemirror_mode": {
    "name": "ipython",
    "version": 3
   },
   "file_extension": ".py",
   "mimetype": "text/x-python",
   "name": "python",
   "nbconvert_exporter": "python",
   "pygments_lexer": "ipython3",
   "version": "3.11.0"
  }
 },
 "nbformat": 4,
 "nbformat_minor": 2
}
