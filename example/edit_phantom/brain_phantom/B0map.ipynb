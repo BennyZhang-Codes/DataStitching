{
 "cells": [
  {
   "cell_type": "code",
   "execution_count": 1,
   "metadata": {},
   "outputs": [],
   "source": [
    "import SimpleITK as sitk\n",
    "from scipy.io import loadmat, savemat\n",
    "import numpy as np\n",
    "\n",
    "def resample(ori_img:sitk.Image, scale, resamplemethod=sitk.sitkNearestNeighbor) -> sitk.Image:\n",
    "    ori_Size = ori_img.GetSize()\n",
    "    ori_Spacing = ori_img.GetSpacing()   \n",
    "\n",
    "\n",
    "    if isinstance(scale, list) and len(scale) == 3:\n",
    "        target_Size = tuple([int(ori_Size[idx]*scale[idx]) for idx in range(3)])\n",
    "        target_Spacing = tuple([ori_Spacing[idx]/(target_Size[idx]/ori_Size[idx]) for idx in range(3)])\n",
    "    else:\n",
    "        target_Size = tuple([int(size*scale) for size in ori_Size])\n",
    "        target_Spacing = tuple([ori_Spacing[idx]/(target_Size[idx]/ori_Size[idx]) for idx in range(3)])\n",
    "    resampler = sitk.ResampleImageFilter()\n",
    "    resampler.SetReferenceImage(ori_img)  \n",
    "\n",
    "    resampler.SetSize(target_Size)\t\t\n",
    "    resampler.SetOutputSpacing(target_Spacing)\n",
    "    if resamplemethod == sitk.sitkNearestNeighbor:\n",
    "        resampler.SetOutputPixelType(sitk.sitkUInt8)   # 近邻插值用于mask的，保存uint8\n",
    "    else:\n",
    "        resampler.SetOutputPixelType(sitk.sitkInt16)  # 线性插值用于PET/CT/MRI之类的，保存float32\n",
    "    resampler.SetTransform(sitk.Transform(3, sitk.sitkIdentity))    \n",
    "    resampler.SetInterpolator(resamplemethod)\n",
    "    return resampler.Execute(ori_img) "
   ]
  },
  {
   "cell_type": "code",
   "execution_count": 36,
   "metadata": {},
   "outputs": [
    {
     "name": "stdout",
     "output_type": "stream",
     "text": [
      "(362, 362, 434)\n",
      "(0.0, 0.0, 0.0)\n",
      "(0.5, 0.5, 0.5)\n"
     ]
    }
   ],
   "source": [
    "brain_image = sitk.ReadImage(\"B0map/brain3D_0.5.nii.gz\")\n",
    "print(brain_image.GetSize())\n",
    "print(brain_image.GetOrigin())\n",
    "print(brain_image.GetSpacing())\n",
    "\n",
    "\n",
    "brain_image.SetOrigin((-90.5, -90.5, -108.5))\n",
    "sitk.WriteImage(brain_image, 'B0map/brain3D_0.5_rot.nii.gz')"
   ]
  },
  {
   "cell_type": "code",
   "execution_count": 46,
   "metadata": {},
   "outputs": [],
   "source": [
    "B0_image = sitk.ReadImage(\"B0map/source/B0map_hertz.nii.gz\")\n",
    "brain_image = sitk.ReadImage(\"B0map/source/brain.nii.gz\")\n",
    "\n",
    "B0_rot = sitk.GetImageFromArray(np.transpose(sitk.GetArrayFromImage(B0_image), (1, 2,0)))\n",
    "B0_rot.SetSpacing(B0_image.GetSpacing())\n",
    "B0_rot.SetOrigin((-80, -128, -128))\n",
    "sitk.WriteImage(B0_rot, 'B0map/B0_rot.nii.gz')\n",
    "\n",
    "brain_rot = sitk.GetImageFromArray(np.transpose(sitk.GetArrayFromImage(brain_image), (1, 2,0)))\n",
    "brain_rot.SetSpacing(brain_image.GetSpacing())\n",
    "brain_rot.SetOrigin((-80, -128, -128))\n",
    "sitk.WriteImage(brain_rot, 'B0map/brain_rot.nii.gz')"
   ]
  },
  {
   "cell_type": "code",
   "execution_count": 3,
   "metadata": {},
   "outputs": [
    {
     "data": {
      "text/plain": [
       "<SimpleITK.SimpleITK.Image; proxy of <Swig Object of type 'std::vector< itk::simple::Image >::value_type *' at 0x000002A25A6F6C10> >"
      ]
     },
     "execution_count": 3,
     "metadata": {},
     "output_type": "execute_result"
    }
   ],
   "source": [
    "B0_img = sitk.ReadImage(\"B0map/B02brain3D_masked.nii.gz\") # 0.5 mm iso \n",
    "median_filter = sitk.MedianImageFilter()\n",
    "median_filter.Execute(B0_img)"
   ]
  },
  {
   "cell_type": "code",
   "execution_count": 4,
   "metadata": {},
   "outputs": [
    {
     "name": "stdout",
     "output_type": "stream",
     "text": [
      "(362, 362, 434)\n",
      "(0.5, 0.5, 0.5)\n",
      "(181, 181, 217)\n",
      "(1.0, 1.0, 1.0)\n"
     ]
    }
   ],
   "source": [
    "B0_img = sitk.ReadImage(\"B0map/B02brain3D_masked.nii.gz\") # 0.5 mm iso \n",
    "median_filter = sitk.MedianImageFilter()\n",
    "B0_img = median_filter.Execute(B0_img)\n",
    "\n",
    "B0_img.SetSpacing((0.5, 0.5, 0.5))\n",
    "\n",
    "print(B0_img.GetSize())\n",
    "print(B0_img.GetSpacing())\n",
    "out_img = resample(ori_img=B0_img, scale=0.5, resamplemethod=sitk.sitkLinear)\n",
    "print(out_img.GetSize())\n",
    "print(out_img.GetSpacing())  \n",
    "\n",
    "sitk.WriteImage(out_img, 'brain3D_B0map_{}.nii.gz'.format(out_img.GetSpacing()[0]))\n",
    "savemat('brain3D_B0map_{}.mat'.format(out_img.GetSpacing()[0]), {'data': sitk.GetArrayFromImage(out_img)}, do_compression=True)"
   ]
  },
  {
   "cell_type": "code",
   "execution_count": 4,
   "metadata": {},
   "outputs": [
    {
     "name": "stdout",
     "output_type": "stream",
     "text": [
      "(362, 362, 434)\n",
      "(0.5, 0.5, 0.5)\n",
      "(181, 181, 217)\n",
      "(1.0, 1.0, 1.0)\n"
     ]
    }
   ],
   "source": [
    "B0_img = sitk.ReadImage(\"B0map/B02brain3D_masked.nii.gz\") # 0.5 mm iso \n",
    "\n",
    "\n",
    "B0_img.SetSpacing((0.5, 0.5, 0.5))\n",
    "\n",
    "print(B0_img.GetSize())\n",
    "print(B0_img.GetSpacing())\n",
    "out_img = resample(ori_img=B0_img, scale=0.5, resamplemethod=sitk.sitkLinear)\n",
    "print(out_img.GetSize())\n",
    "print(out_img.GetSpacing())  \n",
    "\n",
    "median_filter = sitk.MedianImageFilter()\n",
    "median_filter.SetRadius(4)\n",
    "out_img = median_filter.Execute(out_img)\n",
    "\n",
    "sitk.WriteImage(out_img, 'brain3D_B0map_{}_median_filter.nii.gz'.format(out_img.GetSpacing()[0]))\n",
    "savemat('brain3D_B0map_{}_median_filter.mat'.format(out_img.GetSpacing()[0]), {'data': sitk.GetArrayFromImage(out_img)}, do_compression=True)"
   ]
  }
 ],
 "metadata": {
  "kernelspec": {
   "display_name": "benny",
   "language": "python",
   "name": "python3"
  },
  "language_info": {
   "codemirror_mode": {
    "name": "ipython",
    "version": 3
   },
   "file_extension": ".py",
   "mimetype": "text/x-python",
   "name": "python",
   "nbconvert_exporter": "python",
   "pygments_lexer": "ipython3",
   "version": "3.11.0"
  }
 },
 "nbformat": 4,
 "nbformat_minor": 2
}
