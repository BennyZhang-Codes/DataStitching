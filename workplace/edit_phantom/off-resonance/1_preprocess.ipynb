{
 "cells": [
  {
   "cell_type": "code",
   "execution_count": 1,
   "metadata": {},
   "outputs": [],
   "source": [
    "import os\n",
    "cwd = os.getcwd()\n",
    "import shutil\n",
    "from glob import glob\n",
    "\n",
    "from pydicom import dcmread\n",
    "from tqdm import trange\n",
    "\n",
    "\n",
    "def check_path(p: str) -> str:\n",
    "    if  not os.path.exists(p):\n",
    "        os.makedirs(p)\n",
    "    return p\n",
    "\n",
    "dcm2niix_path   = 'D:/TOOLS/dcm2niix/dcm2niix.exe'\n",
    "dicom_path    = '20230921_S17_CSTOF'"
   ]
  },
  {
   "cell_type": "code",
   "execution_count": 17,
   "metadata": {},
   "outputs": [
    {
     "name": "stdout",
     "output_type": "stream",
     "text": [
      "0001 localizer_n\n",
      "0002 MP2RAGE UP\n",
      "0003 MP2RAGE UP\n",
      "0004 MP2RAGE UP\n",
      "0005 MP2RAGE UP\n",
      "0006 mbep2d_rest_1.5iso_1s_pa\n",
      "0007 mbep2d_rest_1.5iso_1s_pa\n",
      "0008 mbep2d_task_1.5iso_1s_pa\n",
      "0009 mbep2d_task_1.5iso_1s_pa\n",
      "0010 mbep2d_ref_1.5iso_1s_ap\n",
      "0011 mbep2d_ref_1.5iso_1s_ap\n",
      "0012 t2_star_tra_p3_dTE1.05\n",
      "0013 t2_star_tra_p3_dTE1.05\n",
      "0014 cmrr_mbep2d_1.6iso_tr1_pa_tuneup\n",
      "0015 cmrr_mbep2d_1.6iso_tr1_pa_tuneup\n",
      "0016 CS_TOF_0.2x0.2x0.4_seg10_acc10_bw98\n"
     ]
    }
   ],
   "source": [
    "os.chdir(cwd)\n",
    "os.chdir(dicom_path)\n",
    "\n",
    "protocol_names = set()\n",
    "dcms = glob(\"*IMA*\")\n",
    "dcms.sort()\n",
    "serise = set()\n",
    "\n",
    "for dcm in dcms:\n",
    "    if dcm.split('.')[3] not in serise:\n",
    "        print(dcm.split('.')[3], dcmread(dcm).ProtocolName)\n",
    "        serise.add(dcm.split('.')[3])\n",
    "\n"
   ]
  },
  {
   "cell_type": "code",
   "execution_count": 2,
   "metadata": {},
   "outputs": [
    {
     "name": "stderr",
     "output_type": "stream",
     "text": [
      "100%|██████████| 3554/3554 [02:37<00:00, 22.51it/s] \n"
     ]
    }
   ],
   "source": [
    "\n",
    "patient_in_folder = r'\\\\192.168.4.49\\mridata\\MOSTA\\20230921_S17_CSTOF'\n",
    "patient_out_folder = '20230921_S17_CSTOF_rearrange'\n",
    "dcm_list = glob('{}/*.dcm'.format(patient_in_folder))\n",
    "if dcm_list.__len__() == 0:\n",
    "    dcm_list = glob('{}/*.IMA'.format(patient_in_folder))\n",
    "dcm_list = [dcm.replace('\\\\', '/') for dcm in dcm_list]\n",
    "series_number = []\n",
    "\n",
    "for idx in trange(dcm_list.__len__()):\n",
    "\n",
    "    dcm = dcm_list[idx]\n",
    "    num = os.path.basename(dcm).split('.')[3]\n",
    "\n",
    "    ds = dcmread(dcm)\n",
    "    dcm_out_folder = check_path('{}/{}_{}'.format(patient_out_folder, ds.SeriesNumber, ds.SeriesDescription))\n",
    "    shutil.copy(dcm, dcm_out_folder)"
   ]
  },
  {
   "cell_type": "code",
   "execution_count": 19,
   "metadata": {},
   "outputs": [
    {
     "name": "stdout",
     "output_type": "stream",
     "text": [
      "12_t2_star_tra_p3_dTE1.05\n",
      "13_t2_star_tra_p3_dTE1.05\n",
      "3_MP2RAGE UP_INV2\n",
      "5_MP2RAGE UP_UNI_Images\n",
      "6_gre_field_mapping_tra_brain\n",
      "7_gre_field_mapping_tra_brain\n",
      "8_gre_field_mapping_tra_tuneup\n",
      "9_gre_field_mapping_tra_tuneup\n"
     ]
    }
   ],
   "source": [
    "in_path = '20230921_S17_CSTOF_rearrange'\n",
    "out_folder = '20230921_S17_CSTOF_rearrange'\n",
    "\n",
    "seqs = next(os.walk('20230921_S17_CSTOF_rearrange'))[1]\n",
    "for seq, name in zip(seqs, seqs):\n",
    "    print(seq)\n",
    "    seq_folder = '{}/{}'.format(in_path, seq)\n",
    "    os.system('{} -3 -f {} -z y n -v 0 -o {} {}'.format(dcm2niix_path, name, out_folder, seq_folder))"
   ]
  },
  {
   "cell_type": "code",
   "execution_count": 14,
   "metadata": {},
   "outputs": [
    {
     "data": {
      "text/plain": [
       "['3_MP2RAGE UP_INV2', '5_MP2RAGE UP_UNI_Images']"
      ]
     },
     "execution_count": 14,
     "metadata": {},
     "output_type": "execute_result"
    }
   ],
   "source": [
    "seqs = next(os.walk('20230921_S17_CSTOF_rearrange'))[1][2:4]\n",
    "seqs"
   ]
  }
 ],
 "metadata": {
  "kernelspec": {
   "display_name": "benny",
   "language": "python",
   "name": "python3"
  },
  "language_info": {
   "codemirror_mode": {
    "name": "ipython",
    "version": 3
   },
   "file_extension": ".py",
   "mimetype": "text/x-python",
   "name": "python",
   "nbconvert_exporter": "python",
   "pygments_lexer": "ipython3",
   "version": "3.11.0"
  }
 },
 "nbformat": 4,
 "nbformat_minor": 2
}
